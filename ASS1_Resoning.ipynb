{
  "cells": [
    {
      "cell_type": "code",
      "execution_count": 8,
      "metadata": {
        "colab": {
          "base_uri": "https://localhost:8080/"
        },
        "id": "WV47pFJYnun8",
        "outputId": "e62c7f3a-96fd-4ce6-9bf0-7fe15b0197fb"
      },
      "outputs": [
        {
          "output_type": "stream",
          "name": "stdout",
          "text": [
            "Original Expression: (A -> B) -> (C -> D)\n",
            "Expression after eliminating implications: (¬ (¬ A ∨ B)) ∨ (¬ (¬ C ∨ D))\n"
          ]
        }
      ],
      "source": [
        "import re\n",
        "\n",
        "def eliminate_implications(expression):\n",
        "    pattern1 = r'([a-zA-Z0-9_]+)\\s*->\\s*([a-zA-Z0-9_]+)'\n",
        "    pattern2 = r'\\(\\((¬\\s+[A-Z])\\s+∨\\s+([A-Z])\\)\\)\\s*->\\s*\\(\\((¬\\s+[A-Z])\\s+∨\\s+([A-Z])\\)\\)'\n",
        "    while re.search(pattern1, expression):\n",
        "        match = re.search(pattern1, expression)\n",
        "        left = match.group(1).strip()\n",
        "        right = match.group(2).strip()\n",
        "        expression = re.sub(pattern1, f'(¬ {left} ∨ {right})', expression, count=1)\n",
        "        modified_expression = re.sub(pattern2, r'(¬ (\\1 ∨ \\2)) ∨ (¬ (\\3 ∨ \\4))', expression)\n",
        "    return modified_expression\n",
        "\n",
        "original_expression = '(A -> B) -> (C -> D)'\n",
        "\n",
        "new_expression = eliminate_implications(original_expression)\n",
        "\n",
        "print(\"Original Expression:\", original_expression)\n",
        "print(\"Expression after eliminating implications:\", new_expression)\n",
        "\n"
      ]
    },
    {
      "cell_type": "code",
      "execution_count": 9,
      "metadata": {
        "colab": {
          "base_uri": "https://localhost:8080/"
        },
        "id": "CX6RFtgeo_0e",
        "outputId": "9d4eaaa3-9382-497b-c5cb-f1559af437c4"
      },
      "outputs": [
        {
          "output_type": "stream",
          "name": "stdout",
          "text": [
            "((¬P ∨ ¬Q) ∨ (¬R ∧ ¬S)\n"
          ]
        }
      ],
      "source": [
        "import re\n",
        "\n",
        "def apply_demorgans_law(formula):\n",
        "    pattern_of_and = r'¬\\((.*?) ∧ (.*?)\\)'\n",
        "    pattern_of_or = r'¬\\((.*?) ∨ (.*?)\\)'\n",
        "\n",
        "\n",
        "    while re.search(pattern_of_and, formula)and re.search(pattern_of_or, formula):\n",
        "        formula = re.sub(pattern_of_and, r'(¬\\1 ∨ ¬\\2)', formula)\n",
        "        formula = re.sub(pattern_of_or, r'(¬\\1 ∧ ¬\\2)', formula)\n",
        "    return formula\n",
        "\n",
        "original_formula = \"(¬(P ∧ Q) ∨ ¬(R ∨ S)\"\n",
        "result = apply_demorgans_law(original_formula)\n",
        "print(result)"
      ]
    },
    {
      "cell_type": "code",
      "execution_count": 10,
      "metadata": {
        "colab": {
          "base_uri": "https://localhost:8080/"
        },
        "id": "eFIum0CnqaGT",
        "outputId": "012ad5a6-b35b-44a5-a125-f3c862d9e47a"
      },
      "outputs": [
        {
          "output_type": "stream",
          "name": "stdout",
          "text": [
            "Original Expression: (¬ ¬ ¬ A ∨ ¬ ¬ B) ∧ (C ∨  ¬ ¬ D)\n",
            "modified expression:  (¬ (¬ A ∨ B)) ∨ (¬ (¬ C ∨ D))\n"
          ]
        }
      ],
      "source": [
import re
# الصح النقطه التالته

def remove_double_negations(expression):
    # Regular expression pattern to match propositional variables, logical operators, and negations
    pattern = r'[A-Za-z]+|\(|\)|not|and|or'

    # Find all tokens in the expression
    tokens = re.findall(pattern, expression)


    # Remove double negations
    clean_tokens = []
    i = 0
    while i < len(tokens):
        if tokens[i] == 'not' and i + 1 < len(tokens) and tokens[i + 1] == 'not':
            i += 2  # Skip the 'not' tokens to remove the double negation
        else:
            clean_tokens.append(tokens[i])
            i += 1

    # Reconstruct the expression
    
    new_expression = ' '.join(clean_tokens)

    return new_expression
original_expression = ' not not not A or not not ( B) and (C or  not not D)'

new_expression = remove_double_negations(original_expression)
print("Original Expression:", original_expression)   
print("new expression",new_expression) 

        
        "
      ]
    },
    {
      "cell_type": "code",
      "execution_count": 11,
      "metadata": {
        "colab": {
          "base_uri": "https://localhost:8080/"
        },
        "id": "5jewr3k2q6qz",
        "outputId": "4e6df5a1-299d-47a7-c157-914effc6fcbb"
      },
      "outputs": [
        {
          "output_type": "stream",
          "name": "stdout",
          "text": [
            "original Formula: ∀x ∃y P(x, y) ∧ Q(y)\n",
            "after standarization ∀c ∃e P(c, e) ∧ Q(e)\n"
          ]
        }
      ],
      "source": [
        "import re\n",
        "\n",
        "def standardize_variable_scope(formula):\n",
        "    pattern = r'[a-z]'\n",
        "\n",
        "    variables = re.findall(pattern, formula)\n",
        "\n",
        "    map = {}\n",
        "    for i, var in enumerate(variables):\n",
        "        new_var = chr(ord('a') + i)\n",
        "        map[var] = new_var\n",
        "\n",
        "    for var, new_var in map.items():\n",
        "        formula = re.sub(r'\\b' + var + r'\\b', new_var, formula)\n",
        "\n",
        "    return formula\n",
        "predicate_formula = '∀x ∃y P(x, y) ∧ Q(y)'\n",
        "\n",
        "standardized_formula = standardize_variable_scope(predicate_formula)\n",
        "print(\"original Formula:\", predicate_formula)\n",
        "print(\"after standarization\", standardized_formula)"
      ]
    },
    {
      "cell_type": "code",
      "execution_count": 11,
      "metadata": {
        "id": "v0v-aeUHrR2v"
      },
      "outputs": [],
      "source": []
    },
    {
      "cell_type": "code",
      "execution_count": 12,
      "metadata": {
        "colab": {
          "base_uri": "https://localhost:8080/"
        },
        "id": "skENLQNOurXM",
        "outputId": "ca1355fb-4516-4721-8d6b-f337e178146f"
      },
      "outputs": [
        {
          "output_type": "stream",
          "name": "stdout",
          "text": [
            "Original Formula: ∀x (p(x)) ∧ (∃y Q(y))\n",
            "Prenex Form: ∀ x ∃ y  (p(x)) ∧ ( Q(y))\n"
          ]
        }
      ],
      "source": [
        "def move_quantifiers_to_left(formula):\n",
        "  # دي مضبوطه\n",
        "    nested_quantifiers = []\n",
        "    quantifier_map = {'∃': '∃', '∀': '∀'}\n",
        "\n",
        "    def move_to_front(match):\n",
        "        quantifier = match.group(1)\n",
        "        variable = match.group(2)\n",
        "        nested_quantifiers.append((quantifier_map[quantifier], variable))\n",
        "        return ''\n",
        "\n",
        "    formula = re.sub(r'([∃∀])([a-z])', move_to_front, formula)\n",
        "\n",
        "    prenex_form = ' '.join([f'{q} {v}' for q, v in nested_quantifiers]) + ' ' + formula\n",
        "\n",
        "    return prenex_form\n",
        "\n",
        "# Original predicate logic formula\n",
        "predicate_formula = '∀x (p(x)) ∧ (∃y Q(y))'\n",
        "\n",
        "prenex_formula = move_quantifiers_to_left(predicate_formula)\n",
        "\n",
        "print(\"Original Formula:\", predicate_formula)\n",
        "print(\"Prenex Form:\", prenex_formula)"
      ]
    },
    {
      "cell_type": "code",
      "execution_count": 13,
      "metadata": {
        "colab": {
          "base_uri": "https://localhost:8080/"
        },
        "id": "PQ__oLQJvfHW",
        "outputId": "7bb3c1a1-86cd-4ebb-a4c1-c56cec054cb4"
      },
      "outputs": [
        {
          "output_type": "stream",
          "name": "stdout",
          "text": [
            "Original Expression: ∀x (p(x)) ∧ (∃y Q(y,x))\n",
            "Updated Expression: ∀x (p(x)) ∧ ((Q (f(y),x)\n"
          ]
        }
      ],
      "source": [
        "# def replace_existential_quantifier_with_function(expression, function_name):\n",
        "#     updated_expression = \"\"\n",
        "#     in_quantifier = False\n",
        "#     in_variable = False\n",
        "#     variable = \"\"\n",
        "\n",
        "#     for char in expression:\n",
        "#         if char == '∃':\n",
        "#             in_quantifier = True\n",
        "#         elif in_quantifier and char.isalnum():\n",
        "#             in_variable = True\n",
        "#             variable = char\n",
        "#         elif in_variable and char == ')':\n",
        "#             updated_expression += 'Q (' + function_name + '(' + variable + ')'\n",
        "#             in_variable = False\n",
        "#             in_quantifier = False\n",
        "#         else:\n",
        "#             updated_expression += char\n",
        "\n",
        "#     return updated_expression\n",
        "\n",
        "# def replace_for_exist_quantifier(expression, function_name):\n",
        "#     new_expression = \"\"\n",
        "#     for i in range(len(expression)):\n",
        "#         new_expression += expression[i]\n",
        "#         if expression[i+1] == '∃x':\n",
        "#             break\n",
        "#         new_expression +=\"(Q (y,\"+function_name+\"(x))\"\n",
        "#         if expression[i+1] == '∃y':\n",
        "#             break\n",
        "#         new_expression +=\"(Q (\"+function_name+\"(y),x)\"\n",
        "\n",
        "#     return new_expression\n",
        "def replace_for_exist_quantifier(expression, function_name):\n",
        "    new_expression = \"\"\n",
        "    i = 0\n",
        "    while i < len(expression):\n",
        "        if expression[i:i+2] == '∃x':\n",
        "            new_expression += \"(Q (y,\" + function_name + \"(x))\"\n",
        "            break\n",
        "        elif expression[i:i+2] == '∃y':\n",
        "            new_expression += \"(Q (\" + function_name + \"(y),x)\"\n",
        "            break\n",
        "        else:\n",
        "            new_expression += expression[i]\n",
        "            i += 1\n",
        "\n",
        "    return new_expression\n",
        "\n",
        "original_expression = '∀x (p(x)) ∧ (∃y Q(y,x))'\n",
        "\n",
        "f_word = 'f'\n",
        "\n",
        "updated_expression = replace_for_exist_quantifier(original_expression, f_word)\n",
        "\n",
        "print(\"Original Expression:\", original_expression)\n",
        "print(\"Updated Expression:\", updated_expression)"
      ]
    },
    {
      "cell_type": "code",
      "execution_count": null,
      "metadata": {
        "id": "NUQJ-JqOx661"
      },
      "outputs": [],
      "source": []
    },
    {
      "cell_type": "code",
      "execution_count": 14,
      "metadata": {
        "colab": {
          "base_uri": "https://localhost:8080/"
        },
        "id": "3wCykW9VwNj5",
        "outputId": "b29bd849-af12-42c7-86e7-82ca00d8e8d5"
      },
      "outputs": [
        {
          "output_type": "stream",
          "name": "stdout",
          "text": [
            "Original Expression: ∀x (p(x)) ∧ (∀y Q(y))\n",
            "Updated Expression: (p(x)) ∧ (Q(y))\n"
          ]
        }
      ],
      "source": [
        "def eliminate_universal_quantifiers(expression):\n",
        "    updated_expression = \"\"\n",
        "    in_quantifier = False\n",
        "    skip_until_space = False\n",
        "\n",
        "    for char in expression:\n",
        "        if char == '∀':\n",
        "            in_quantifier = True\n",
        "            skip_until_space = True\n",
        "        elif skip_until_space and char == ' ':\n",
        "            skip_until_space = False\n",
        "        elif not skip_until_space:\n",
        "            updated_expression += char\n",
        "\n",
        "    return updated_expression\n",
        "\n",
        "original_expression = '∀x (p(x)) ∧ (∀y Q(y))'\n",
        "\n",
        "updated_expression = eliminate_universal_quantifiers(original_expression)\n",
        "\n",
        "print(\"Original Expression:\", original_expression)\n",
        "print(\"Updated Expression:\", updated_expression)\n",
        "# print(\"Original Expression:\", original_expression)\n",
        "# print(\"Updated Expression:\", new_exp)\n",
        "\n",
        "#def eliminate_universal_quantifiers(expression):\n",
        " #   exp = expression.split()\n",
        "  #  new_exp = \"\"  # Initialize an empty string\n",
        "   # for i in range(len(exp)):\n",
        "       # new_exp+= exp[i] # Loop over indices of exp\n",
        "      #  if i < len(exp) - 1 and exp[i+1] == '∀':  # Check if the next token is the universal quantifier\n",
        "     #       new_exp += exp[i+2]  # Skip adding the next token to the new expression\n",
        "    #    else:\n",
        "        #    new_exp += exp[i] + \" \"  # Add the token to the new expression with a space\n",
        "    #return new_exp.strip()  # Remove trailing whitespace\n",
        "\n",
        "#original_expression = '∀x ( p ( x ) ) ∧ ( ∀y Q ( y ) )'\n",
        "#new_exp = eliminate_universal_quantifiers(original_expression)\n",
        "\n",
        "#print(\"Original Expression:\", original_expression)\n",
        "#print(\"Updated Expression:\", new_exp)\n",
        "\n",
        "\n"
      ]
    },
    {
      "cell_type": "code",
      "source": [
        "def clauses (Sentence): # P(x) & (S(y) | H(o) | J(m)) &\n",
        " Sentence_of_clauses = []\n",
        " for clause in Sentence.split(' & '):\n",
        "  if \"|\" in clause:\n",
        "   clause = clause [1:len(clause)-1]\n",
        "   clause = clause.replace(\"|\", \",\")\n",
        "  clause = \"{\" + clause + \"}\"\n",
        "  Sentence_of_clauses.append(clause)\n",
        " return Sentence_of_clauses\n",
        "print(clauses(\"~P(x) & (~5(y) | H(o))\"))\n",
        "print(clauses(\"P(x) & (S(y) | H(o) | J(m)) & N(k)\"))\n",
        "\n",
        "print(clauses(\" (X(x) | Y(y)) & (Z(z) | A(w)) & (B(p) | C(q) | D(r)) & E(s) & (F(t) | G(u))\"))"
      ],
      "metadata": {
        "colab": {
          "base_uri": "https://localhost:8080/"
        },
        "id": "x7YBUxLICV6b",
        "outputId": "95ae8b78-3798-410c-9f3b-e1eb855087c0"
      },
      "execution_count": 34,
      "outputs": [
        {
          "output_type": "stream",
          "name": "stdout",
          "text": [
            "['{~P(x)}', '{~5(y) , H(o)}']\n",
            "['{P(x)}', '{S(y) , H(o) , J(m)}', '{N(k)}']\n",
            "['{(X(x) , Y(y)}', '{Z(z) , A(w)}', '{B(p) , C(q) , D(r)}', '{E(s)}', '{F(t) , G(u)}']\n"
          ]
        }
      ]
    },
    {
      "cell_type": "code",
      "source": [
        "def Rename_clauses (Sentence_of_clauses):\n",
        " replaced_variable = \"j\"\n",
        " last_variables = []\n",
        " replaced_clauses = []\n",
        " for clause in Sentence_of_clauses:\n",
        "  for j in range(len(clause)):\n",
        "   if clause[j] == \"(\":\n",
        "    if clause[j+1] in last_variables:\n",
        "     clause =clause [:j+1] + replaced_variable +clause[j+2:]\n",
        "     unicode_value = ord(replaced_variable)\n",
        "     replaced_variable = chr(unicode_value + 1)\n",
        "    else:\n",
        "     last_variables.append(clause[j+1])\n",
        "  replaced_clauses.append(clause)\n",
        " return replaced_clauses\n",
        "\n",
        "all_sentences_clauses =[clauses(\"P(o) & (S(y) | H(o) | j(o) & N(y)\")]\n",
        "for sentence_claus in all_sentences_clauses:\n",
        "  print(Rename_clauses (sentence_claus))\n"
      ],
      "metadata": {
        "colab": {
          "base_uri": "https://localhost:8080/"
        },
        "id": "ggY9ZvIdb9Yw",
        "outputId": "45e9ea04-2a01-4f1b-9138-d91967ffdc95"
      },
      "execution_count": 35,
      "outputs": [
        {
          "output_type": "stream",
          "name": "stdout",
          "text": [
            "['{P(o)}', '{S(y) , H(j) , j(k}', '{N(l)}']\n"
          ]
        }
      ]
    }
  ],
  "metadata": {
    "colab": {
      "provenance": []
    },
    "kernelspec": {
      "display_name": "Python 3",
      "name": "python3"
    },
    "language_info": {
      "codemirror_mode": {
        "name": "ipython",
        "version": 3
      },
      "file_extension": ".py",
      "mimetype": "text/x-python",
      "name": "python",
      "nbconvert_exporter": "python",
      "pygments_lexer": "ipython3",
      "version": "3.12.2"
    }
  },
  "nbformat": 4,
  "nbformat_minor": 0
}
